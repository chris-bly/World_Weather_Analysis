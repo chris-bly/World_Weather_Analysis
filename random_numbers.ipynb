{
 "cells": [
  {
   "cell_type": "code",
   "execution_count": 1,
   "id": "e7cd8ca9",
   "metadata": {},
   "outputs": [],
   "source": [
    "# Import the random module.\n",
    "import random"
   ]
  },
  {
   "cell_type": "code",
   "execution_count": 2,
   "id": "1760ca45",
   "metadata": {},
   "outputs": [
    {
     "data": {
      "text/plain": [
       "25"
      ]
     },
     "execution_count": 2,
     "metadata": {},
     "output_type": "execute_result"
    }
   ],
   "source": [
    "random.randint(-90, 90)"
   ]
  },
  {
   "cell_type": "code",
   "execution_count": 3,
   "id": "1330d7b3",
   "metadata": {},
   "outputs": [
    {
     "data": {
      "text/plain": [
       "0.08863003246381895"
      ]
     },
     "execution_count": 3,
     "metadata": {},
     "output_type": "execute_result"
    }
   ],
   "source": [
    "random.random()"
   ]
  },
  {
   "cell_type": "code",
   "execution_count": 4,
   "id": "cc50b7d9",
   "metadata": {},
   "outputs": [
    {
     "data": {
      "text/plain": [
       "21.432121204083813"
      ]
     },
     "execution_count": 4,
     "metadata": {},
     "output_type": "execute_result"
    }
   ],
   "source": [
    "random_number = random.randint(-90, 89) + random.random()\n",
    "random_number"
   ]
  },
  {
   "cell_type": "code",
   "execution_count": 8,
   "id": "5584d1a4",
   "metadata": {},
   "outputs": [
    {
     "data": {
      "text/plain": [
       "[-3.8886541314562284,\n",
       " -44.45153407048858,\n",
       " 65.50522422536827,\n",
       " -56.93254217628151,\n",
       " 51.19040082085194,\n",
       " -51.39090074133331,\n",
       " 69.00313828432984,\n",
       " -0.2317412405061079,\n",
       " -46.72798507952694,\n",
       " -73.69669857590864]"
      ]
     },
     "execution_count": 8,
     "metadata": {},
     "output_type": "execute_result"
    }
   ],
   "source": [
    "x = 1\n",
    "latitudes = []\n",
    "while x < 11:\n",
    "    random_lat = random.randint(-90, 89) + random.random()\n",
    "    latitudes.append(random_lat)\n",
    "    x += 1\n",
    "    \n",
    "latitudes"
   ]
  },
  {
   "cell_type": "code",
   "execution_count": 9,
   "id": "138aeedc",
   "metadata": {},
   "outputs": [
    {
     "data": {
      "text/plain": [
       "-60"
      ]
     },
     "execution_count": 9,
     "metadata": {},
     "output_type": "execute_result"
    }
   ],
   "source": [
    "random.randrange(-90, 90, step=1)"
   ]
  },
  {
   "cell_type": "code",
   "execution_count": 15,
   "id": "74bc7f50",
   "metadata": {},
   "outputs": [
    {
     "data": {
      "text/plain": [
       "-45"
      ]
     },
     "execution_count": 15,
     "metadata": {},
     "output_type": "execute_result"
    }
   ],
   "source": [
    "random.randrange(-90, 90, step=3)"
   ]
  },
  {
   "cell_type": "code",
   "execution_count": 17,
   "id": "888f1b0a",
   "metadata": {},
   "outputs": [
    {
     "data": {
      "text/plain": [
       "-59.23211948287916"
      ]
     },
     "execution_count": 17,
     "metadata": {},
     "output_type": "execute_result"
    }
   ],
   "source": [
    "random.uniform(-90, 90)"
   ]
  },
  {
   "cell_type": "code",
   "execution_count": 18,
   "id": "d04e4983",
   "metadata": {},
   "outputs": [],
   "source": [
    "# Import the NumPy module.\n",
    "import numpy as np"
   ]
  },
  {
   "cell_type": "code",
   "execution_count": 19,
   "id": "65a4b345",
   "metadata": {},
   "outputs": [
    {
     "data": {
      "text/plain": [
       "-44.02728466531734"
      ]
     },
     "execution_count": 19,
     "metadata": {},
     "output_type": "execute_result"
    }
   ],
   "source": [
    "np.random.uniform(-90.000, 90.000)"
   ]
  },
  {
   "cell_type": "code",
   "execution_count": 20,
   "id": "cedbd81a",
   "metadata": {},
   "outputs": [
    {
     "data": {
      "text/plain": [
       "array([-31.17150082,  75.08219303,   8.83767961,   4.70282945,\n",
       "       -86.42262271,  -8.79924852, -87.14510348,  -8.97868035,\n",
       "         9.04132071,   9.66554788,  67.64706099,  22.00657961,\n",
       "        54.36545534,  -4.13303324, -28.04153995,  59.76280468,\n",
       "        27.3342175 ,  30.34726894,  56.54485059,  39.93480092,\n",
       "        78.27785819, -38.84746596,  28.06301835, -80.69293436,\n",
       "       -67.21129167,  -3.05897926, -47.9464826 ,   8.51859183,\n",
       "       -78.74965153,  41.27296111, -86.44406758,  44.5692519 ,\n",
       "        37.67584529, -57.77801869,  41.04818582, -32.21601574,\n",
       "        58.72925466, -82.9547961 , -79.44379773,  52.90921894,\n",
       "        59.3414633 ,  45.83176792, -52.20424567, -15.04621247,\n",
       "       -67.7519349 , -70.3206907 ,  32.46416114, -57.5451569 ,\n",
       "       -26.03999023,  63.10923607])"
      ]
     },
     "execution_count": 20,
     "metadata": {},
     "output_type": "execute_result"
    }
   ],
   "source": [
    "np.random.uniform(-90.000, 90.000, size=50)"
   ]
  },
  {
   "cell_type": "code",
   "execution_count": 21,
   "id": "5b455538",
   "metadata": {},
   "outputs": [],
   "source": [
    "# Import timeit.\n",
    "import timeit"
   ]
  },
  {
   "cell_type": "code",
   "execution_count": 23,
   "id": "99542952",
   "metadata": {},
   "outputs": [
    {
     "name": "stdout",
     "output_type": "stream",
     "text": [
      "10.6 µs ± 136 ns per loop (mean ± std. dev. of 7 runs, 100000 loops each)\n"
     ]
    }
   ],
   "source": [
    "%timeit np.random.uniform(-90.000, 90.000, size=1500)\n"
   ]
  },
  {
   "cell_type": "code",
   "execution_count": 29,
   "id": "baee707b",
   "metadata": {},
   "outputs": [
    {
     "name": "stdout",
     "output_type": "stream",
     "text": [
      "1.23 ms ± 20.4 µs per loop (mean ± std. dev. of 7 runs, 1000 loops each)\n"
     ]
    }
   ],
   "source": [
    "def latitudes(size):\n",
    "    latitudes = []\n",
    "    x = 0\n",
    "    while x < (size):\n",
    "        random_lat = random.randint(-90, 90) + random.random()\n",
    "        latitudes.append(random_lat)\n",
    "        x += 1\n",
    "    return latitudes\n",
    "# Call the function with 1500.\n",
    "%timeit latitudes(1500)"
   ]
  },
  {
   "cell_type": "code",
   "execution_count": 30,
   "id": "34029a08",
   "metadata": {},
   "outputs": [],
   "source": [
    "# SKILL DRILL: Refactor the code for the while loop with the %timeit magic command and write a for loop that will generate the 1,500 latitudes."
   ]
  },
  {
   "cell_type": "code",
   "execution_count": null,
   "id": "13dec291",
   "metadata": {},
   "outputs": [],
   "source": []
  }
 ],
 "metadata": {
  "kernelspec": {
   "display_name": "PythonData",
   "language": "python",
   "name": "pythondata"
  },
  "language_info": {
   "codemirror_mode": {
    "name": "ipython",
    "version": 3
   },
   "file_extension": ".py",
   "mimetype": "text/x-python",
   "name": "python",
   "nbconvert_exporter": "python",
   "pygments_lexer": "ipython3",
   "version": "3.7.10"
  }
 },
 "nbformat": 4,
 "nbformat_minor": 5
}
